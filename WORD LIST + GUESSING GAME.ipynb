{
 "cells": [
  {
   "cell_type": "markdown",
   "id": "ac17bac7",
   "metadata": {},
   "source": [
    "<h1> WORD LIST + GUESSING GAME </h1>"
   ]
  },
  {
   "cell_type": "code",
   "execution_count": 5,
   "id": "1fa377bf",
   "metadata": {},
   "outputs": [],
   "source": [
    "words=[]\n",
    "word_list=open('LIST.txt', 'r')\n",
    "lines=word_list.readlines()\n",
    "words = [line.strip() for line in lines]"
   ]
  },
  {
   "cell_type": "markdown",
   "id": "e1a5f32e",
   "metadata": {},
   "source": [
    "### Print the total number of words in the file."
   ]
  },
  {
   "cell_type": "code",
   "execution_count": 9,
   "id": "37a73129",
   "metadata": {},
   "outputs": [
    {
     "name": "stdout",
     "output_type": "stream",
     "text": [
      "Total number of words: 113783\n"
     ]
    }
   ],
   "source": [
    "with open('words.txt', 'r') as f:\n",
    "    contents= f.read()\n",
    "print(\"Total number of words:\", len(words))"
   ]
  },
  {
   "cell_type": "markdown",
   "id": "06f1f474",
   "metadata": {},
   "source": [
    "### Print the longest word in the file."
   ]
  },
  {
   "cell_type": "code",
   "execution_count": 101,
   "id": "7287f331",
   "metadata": {},
   "outputs": [
    {
     "name": "stdout",
     "output_type": "stream",
     "text": [
      "counterdemonstrations\n"
     ]
    }
   ],
   "source": [
    "with open('words.txt', 'r') as f:\n",
    "    words= f.read().split()\n",
    "    longest_word=max(words, key=len)\n",
    "    \n",
    "print(longest_word)"
   ]
  },
  {
   "cell_type": "markdown",
   "id": "5b4cf3f4",
   "metadata": {},
   "source": [
    "### Print the number of words that start with a certain letter"
   ]
  },
  {
   "cell_type": "code",
   "execution_count": 103,
   "id": "e731fde0",
   "metadata": {},
   "outputs": [
    {
     "name": "stdout",
     "output_type": "stream",
     "text": [
      "Please enter a letter:w\n",
      "The number of words that start letter w  is  2927\n"
     ]
    }
   ],
   "source": [
    "with open('words.txt', 'r') as f:\n",
    "    words= f.read().split()\n",
    "    letter= input('Please enter a letter:')\n",
    "    count=0\n",
    "    \n",
    "    for a in words:\n",
    "        if a.startswith(letter):\n",
    "            count+=1\n",
    "        \n",
    "    print(\"The number of words that start letter\",letter,\" is \", count)\n",
    "    \n"
   ]
  },
  {
   "cell_type": "markdown",
   "id": "4d752171",
   "metadata": {},
   "source": [
    "### Print all the words that contain a certain substring"
   ]
  },
  {
   "cell_type": "code",
   "execution_count": 104,
   "id": "fc150d7c",
   "metadata": {},
   "outputs": [
    {
     "name": "stdout",
     "output_type": "stream",
     "text": [
      "Please enter a word:able\n",
      "There are  827  words that contain the word able \n",
      " ['abatable', 'able', 'ablegate', 'ablegates', 'abler', 'ables', 'ablest', 'abominable', 'abusable', 'acceptable', 'accountable', 'achievable', 'actable', 'adaptable', 'addable', 'addressable', 'adjustable', 'administrable', 'adorable', 'advisable', 'affable', 'agitable', 'agreeable', 'agreeableness', 'agreeablenesses', 'alliable', 'allowable', 'amenable', 'amiable', 'amicable', 'amusable', 'anableps', 'anablepses', 'analyzable', 'answerable', 'applicable', 'appreciable', 'approachable', 'arable', 'arables', 'arguable', 'ascertainable', 'ascribable', 'assailable', 'assignable', 'atonable', 'attainable', 'attributable', 'automateable', 'available', 'avoidable', 'avowable', 'bailable', 'bankable', 'barrable', 'bearable', 'beatable', 'believable', 'bendable', 'biddable', 'billable', 'bindable', 'biodegradable', 'bitable', 'biteable', 'blamable', 'boatable', 'boilable', 'bondable', 'breakable', 'bribable', 'bridgeable', 'bridgeables', 'buffable', 'burnable', 'buyable', 'cable', 'cabled', 'cablegram', 'cablegrams', 'cables', 'cablet', 'cablets', 'cableway', 'cableways', 'calculable', 'callable', 'capable', 'capabler', 'capablest', 'cartable', 'cascable', 'cascables', 'cashable', 'causable', 'certifiable', 'changeable', 'chargeable', 'chewable', 'citable', 'citeable', 'closable', 'clubable', 'codable', 'cognizable', 'coinable', 'collectable', 'comfortable', 'commendable', 'communicable', 'comparable', 'compatable', 'conceivable', 'considerable', 'constable', 'constables', 'consumable', 'contestable', 'controllable', 'cookable', 'countable', 'creditable', 'culpable', 'curable', 'curbable', 'cuttable', 'damnable', 'datable', 'dateable', 'debatable', 'decipherable', 'deferrable', 'definable', 'degradable', 'demonstrable', 'deniable', 'dependable', 'deplorable', 'describable', 'desirable', 'despicable', 'detectable', 'detestable', 'diableries', 'diablery', 'dimmable', 'dippable', 'disable', 'disabled', 'disables', 'disagreeable', 'disagreeables', 'discreditable', 'dishonorable', 'dispensable', 'disposable', 'disputable', 'disreputable', 'distinguishable', 'doable', 'dowable', 'drapable', 'drawable', 'drinkable', 'drivable', 'dryable', 'dupable', 'durable', 'durables', 'dutiable', 'dyable', 'dyeable', 'eatable', 'eatables', 'editable', 'educable', 'educables', 'effable', 'enable', 'enabled', 'enabler', 'enablers', 'enables', 'endurable', 'enforceable', 'enjoyable', 'enviable', 'equable', 'equitable', 'eradicable', 'estimable', 'evadable', 'evaluable', 'evitable', 'evocable', 'exchangeable', 'executable', 'exorable', 'expiable', 'explainable', 'explicable', 'extendable', 'extinguishable', 'extractable', 'extricable', 'eyeable', 'fable', 'fabled', 'fabler', 'fablers', 'fables', 'faceable', 'fadable', 'farmable', 'fashionable', 'fathomable', 'favorable', 'feedable', 'fellable', 'filterable', 'finable', 'fineable', 'fishable', 'fissionable', 'fittable', 'fixable', 'flammable', 'flyable', 'foilable', 'foldable', 'fordable', 'foreseeable', 'forgivable', 'formable', 'formidable', 'framable', 'friable', 'furlable', 'gable', 'gabled', 'gables', 'gainable', 'gelable', 'getable', 'gettable', 'giveable', 'gleanable', 'gnawable', 'gradable', 'grazable', 'growable', 'guidable', 'gullable', 'gustable', 'gustables', 'habitable', 'hangable', 'hatable', 'hateable', 'healable', 'hearable', 'heatable', 'helpable', 'hewable', 'hidable', 'hirable', 'hireable', 'holdable', 'honorable', 'hospitable', 'huggable', 'hummable', 'huntable', 'hyperexcitable', 'hypnotizable', 'identifiable', 'illimitable', 'imaginable', 'imitable', 'immeasurable', 'immovable', 'immutable', 'impalpable', 'impassable', 'impeccable', 'impenetrable', 'imperishable', 'impermeable', 'imperturbable', 'implacable', 'imponderable', 'imponderables', 'impracticable', 'impregable', 'impressionable', 'improbable', 'improvable', 'inadvisable', 'inalienable', 'inapplicable', 'inappreciable', 'inapproachable', 'inarable', 'inarguable', 'incalculable', 'incapable', 'incommunicable', 'incomparable', 'inconceivable', 'inconsiderable', 'inconsolable', 'inconsumable', 'incontestable', 'inculpable', 'incurable', 'indecipherable', 'indefatigable', 'indefinable', 'indescribable', 'indictable', 'indispensable', 'indispensables', 'indisputable', 'indistinguishable', 'indominitable', 'indubitable', 'ineducable', 'ineffable', 'ineradicable', 'inescapable', 'inestimable', 'inevitable', 'inexcusable', 'inexorable', 'inexplicable', 'inextinguishable', 'inextricable', 'inflammable', 'inflatable', 'inhabitable', 'inimitable', 'innumerable', 'inoperable', 'insatiable', 'inscrutable', 'inseparable', 'instable', 'insufferable', 'insuperable', 'insupportable', 'insurable', 'insurmounable', 'interchangeable', 'interminable', 'intolerable', 'intractable', 'invaluable', 'invariable', 'inviable', 'inviolable', 'invulnerable', 'ionizable', 'irreconcilable', 'irrecoverable', 'irredeemable', 'irrefutable', 'irreparable', 'irreplaceable', 'irreproachable', 'irretrievable', 'irrevocable', 'irritable', 'isolable', 'issuable', 'joinable', 'justifiable', 'keepable', 'kissable', 'knowable', 'knowledgeable', 'lamentable', 'lapsable', 'laudable', 'laughable', 'leasable', 'leviable', 'liable', 'lienable', 'liftable', 'likable', 'likeable', 'linable', 'lineable', 'linkable', 'liquefiable', 'listable', 'livable', 'liveable', 'loanable', 'lockable', 'losable', 'lovable', 'loveable', 'machineable', 'magnetizable', 'mailable', 'maintainable', 'makable', 'makeable', 'malleable', 'manageable', 'manageableness', 'manageablenesses', 'mappable', 'marketable', 'marriageable', 'maskable', 'measurable', 'medicable', 'meltable', 'memorable', 'memorableness', 'memorablenesses', 'mendable', 'millable', 'minable', 'mineable', 'miserable', 'miserableness', 'miserablenesses', 'mixable', 'mockable', 'moldable', 'monosyllable', 'monosyllables', 'mountable', 'movable', 'movables', 'moveable', 'moveables', 'mutable', 'namable', 'nameable', 'navigable', 'negotiable', 'nettable', 'nonadjustable', 'nonbreakable', 'nonchargeable', 'noncommunicable', 'nonconsumable', 'noncontrollable', 'nondeferrable', 'nondegradable', 'nonenforceable', 'nonexchangeable', 'nonflammable', 'nonnegotiable', 'nonperishable', 'nonrecoverable', 'nonrefillable', 'nonrefundable', 'nonrenewable', 'nonreusable', 'nontaxable', 'nontransferable', 'notable', 'notables', 'noticeable', 'obeyable', 'objectionable', 'obtainable', 'obviable', 'openable', 'operable', 'outfable', 'outfabled', 'outfables', 'overable', 'ownable', 'oxidable', 'oxidizable', 'packable', 'palatable', 'palpable', 'parable', 'parables', 'pardonable', 'parsable', 'passable', 'pawnable', 'payable', 'peaceable', 'peccable', 'peelable', 'penetrable', 'perceivable', 'perishable', 'perishables', 'permeable', 'personable', 'pitiable', 'placable', 'playable', 'pleasurable', 'pliable', 'plowable', 'polysyllable', 'polysyllables', 'portable', 'portables', 'potable', 'potables', 'pourable', 'practicable', 'predictable', 'preferable', 'presentable', 'presumable', 'preventable', 'printable', 'probable', 'procurable', 'profitable', 'programmable', 'pronounceable', 'provable', 'prunable', 'punishable', 'quenchable', 'questionable', 'quotable', 'radiable', 'raisable', 'ratable', 'rateable', 'reachable', 'readable', 'readjustable', 'realizable', 'reapable', 'reasonable', 'reasonableness', 'reasonablenesses', 'receivable', 'receivables', 'reclaimable', 'recognizable', 'recommendable', 'reconcilable', 'recordable', 'recoverable', 'redeemable', 'redoubtable', 'reelable', 'referable', 'refillable', 'refundable', 'regrettable', 'reimbursable', 'relatable', 'reliable', 'reliableness', 'reliablenesses', 'relishable', 'remarkable', 'remarkableness', 'remarkablenesses', 'removable', 'renewable', 'rentable', 'repayable', 'repeatable', 'replaceable', 'reputable', 'reputabley', 'resalable', 'resistable', 'resolvable', 'respectable', 'restartable', 'restorable', 'restrainable', 'retable', 'retables', 'retractable', 'retrievable', 'returnable', 'reusable', 'revisable', 'revolvable', 'ridable', 'rideable', 'rinsable', 'rippable', 'ropable', 'rowable', 'ruinable', 'rulable', 'rustable', 'sable', 'sables', 'sailable', 'salable', 'saleable', 'salvable', 'satiable', 'savable', 'saveable', 'sayable', 'scalable', 'sealable', 'seasonable', 'seeable', 'seisable', 'seizable', 'sellable', 'sendable', 'separable', 'servable', 'serviceable', 'shakable', 'shamable', 'shapable', 'sharable', 'shavable', 'shedable', 'shrinkable', 'singable', 'sinkable', 'sizable', 'sizeable', 'skiable', 'slakable', 'slidable', 'smokable', 'sociable', 'sociables', 'solvable', 'sorbable', 'sortable', 'sowable', 'sparable', 'sparables', 'spillable', 'stable', 'stabled', 'stabler', 'stablers', 'stables', 'stablest', 'statable', 'stonable', 'storable', 'storables', 'stowable', 'suable', 'suitable', 'summable', 'supportable', 'surfable', 'swayable', 'syllable', 'syllabled', 'syllables', 'table', 'tableau', 'tableaus', 'tableaux', 'tablecloth', 'tablecloths', 'tabled', 'tableful', 'tablefuls', 'tables', 'tablesful', 'tablespoon', 'tablespoonful', 'tablespoonfuls', 'tablespoons', 'tablet', 'tableted', 'tableting', 'tabletop', 'tabletops', 'tablets', 'tabletted', 'tabletting', 'tableware', 'tablewares', 'takable', 'takeable', 'talkable', 'tamable', 'tameable', 'tannable', 'tastable', 'taxable', 'taxables', 'teachable', 'tearable', 'tellable', 'tenable', 'terminable', 'testable', 'tillable', 'tiltable', 'timetable', 'timetables', 'tippable', 'tithable', 'titrable', 'tolerable', 'totable', 'traceable', 'tractable', 'tradable', 'transferable', 'translatable', 'transmittable', 'treasonable', 'triable', 'tubbable', 'tunable', 'tuneable', 'turnable', 'turntable', 'turntables', 'typeable', 'unable', 'unacceptable', 'unanswerable', 'unavailable', 'unavoidable', 'unbearable', 'unbelievable', 'unbreakable', 'uncomfortable', 'unconscionable', 'uncontrollable', 'undeniable', 'undependable', 'understandable', 'undesirable', 'undrinkable', 'unendurable', 'unenforceable', 'unexcitable', 'unexplainable', 'unfavorable', 'unflappable', 'unforeseeable', 'unforgettable', 'unforgivable', 'unimaginable', 'unimpeachable', 'unjustifiable', 'unlikable', 'unlovable', 'unmanageable', 'unmistakable', 'unnavigable', 'unnojectionable', 'unnoticeable', 'unobservable', 'unobtainable', 'unpardonable', 'unpredictable', 'unprofitable', 'unquantifiable', 'unquenchable', 'unquestionable', 'unreachable', 'unreadable', 'unreasonable', 'unreliable', 'unseasonable', 'unspeakable', 'unstable', 'unstabler', 'unstablest', 'unthinkable', 'unusable', 'unviable', 'unworkable', 'usable', 'useable', 'valuable', 'valuables', 'variable', 'variableness', 'variablenesses', 'variables', 'vegetable', 'vegetables', 'vendable', 'venerable', 'verifiable', 'veritable', 'viable', 'viewable', 'violable', 'visitable', 'vitiable', 'vocable', 'vocables', 'voidable', 'votable', 'voteable', 'vulnerable', 'wadable', 'wadeable', 'walkable', 'washable', 'wastable', 'wearable', 'wearables', 'weldable', 'wettable', 'willable', 'windable', 'winnable', 'wirable', 'workable', 'workableness', 'workablenesses', 'writable']\n"
     ]
    }
   ],
   "source": [
    "with open('words.txt', 'r') as f:\n",
    "    words= f.read().split()\n",
    "    word= input('Please enter a word:')\n",
    "    match=[]\n",
    "    count=0\n",
    "    for a in words:\n",
    "        if word in a:\n",
    "            match.append(a)\n",
    "            count+=1\n",
    "  \n",
    "    print(\"There are \",count,\" words that contain the word\", word,\"\\n\", match)\n",
    "    \n",
    "   "
   ]
  },
  {
   "cell_type": "markdown",
   "id": "30f3a1a9",
   "metadata": {},
   "source": [
    "### Print all the words that are palindromes (i.e., read the same backwards and forwards)."
   ]
  },
  {
   "cell_type": "code",
   "execution_count": 241,
   "id": "8948c425",
   "metadata": {},
   "outputs": [
    {
     "name": "stdout",
     "output_type": "stream",
     "text": [
      "aa\n",
      "aba\n",
      "aga\n",
      "aha\n",
      "ala\n",
      "alula\n",
      "ama\n",
      "ana\n",
      "anna\n",
      "ava\n",
      "awa\n",
      "bib\n",
      "bob\n",
      "boob\n",
      "bub\n",
      "civic\n",
      "dad\n",
      "deed\n",
      "deified\n",
      "deked\n",
      "deled\n",
      "denned\n",
      "dewed\n",
      "did\n",
      "dud\n",
      "eke\n",
      "eme\n",
      "ere\n",
      "eve\n",
      "ewe\n",
      "eye\n",
      "gag\n",
      "gig\n",
      "hah\n",
      "halalah\n",
      "hallah\n",
      "huh\n",
      "kaiak\n",
      "kayak\n",
      "keek\n",
      "kook\n",
      "level\n",
      "madam\n",
      "marram\n",
      "mem\n",
      "mim\n",
      "minim\n",
      "mom\n",
      "mum\n",
      "noon\n",
      "nun\n",
      "oho\n",
      "otto\n",
      "pap\n",
      "peep\n",
      "pep\n",
      "pip\n",
      "poop\n",
      "pop\n",
      "pup\n",
      "radar\n",
      "redder\n",
      "refer\n",
      "reifier\n",
      "repaper\n",
      "reviver\n",
      "rotator\n",
      "rotor\n",
      "sagas\n",
      "sees\n",
      "selles\n",
      "sememes\n",
      "semes\n",
      "seres\n",
      "sexes\n",
      "shahs\n",
      "sis\n",
      "solos\n",
      "sos\n",
      "stets\n",
      "tat\n",
      "tenet\n",
      "terret\n",
      "tit\n",
      "toot\n",
      "tot\n",
      "tut\n",
      "vav\n",
      "waw\n",
      "wow\n",
      "yay\n",
      "There are  91  palindromes\n"
     ]
    }
   ],
   "source": [
    "with open('words.txt', 'r') as f:\n",
    "    words= f.read().split()\n",
    "    count=0\n",
    "    pal=[]\n",
    "\n",
    "\n",
    "def isPalindrome(pal):\n",
    "\treturn pal == pal[::-1]\n",
    "\n",
    "for pal in words:\n",
    "    ans = isPalindrome(pal)\n",
    "    if ans:\n",
    "        count+=1\n",
    "        print(pal)\n",
    "\n",
    "print(\"There are \",count,\" palindromes\")\n"
   ]
  },
  {
   "cell_type": "markdown",
   "id": "aa6e7deb",
   "metadata": {},
   "source": [
    "### Count the frequency of each letter. "
   ]
  },
  {
   "cell_type": "code",
   "execution_count": 105,
   "id": "44c4af3b",
   "metadata": {},
   "outputs": [
    {
     "name": "stdout",
     "output_type": "stream",
     "text": [
      "Count of all characters in calcspar\n",
      " is {'c': 2, 'a': 2, 'l': 1, 's': 1, 'p': 1, 'r': 1, '\\n': 1}\n"
     ]
    }
   ],
   "source": [
    "import random \n",
    "    \n",
    "words=random.choice(list(open('words.txt')))\n",
    "res={}\n",
    "\n",
    "for x in words:\n",
    "   res[x]= res.get(x,0)+1\n",
    "\n",
    "print(\"Count of all characters in\", words,\"is \"\n",
    "      + str(res))\n",
    " \n",
    "  "
   ]
  },
  {
   "cell_type": "markdown",
   "id": "c50b499b",
   "metadata": {},
   "source": [
    "## WORD GUESSING GAME"
   ]
  },
  {
   "cell_type": "code",
   "execution_count": 3,
   "id": "1d4eb54e",
   "metadata": {},
   "outputs": [
    {
     "name": "stdout",
     "output_type": "stream",
     "text": [
      "GUESS THE WORD\n",
      "_ _ _ _ _ _ _ \n",
      "Please select a character: a\n",
      "Incorrect guess! Attempts left: 4\n",
      "_ _ _ _ _ _ _ \n",
      "Please select a character: e\n",
      "_ _ _ e e _ _ \n",
      "Please select a character: s\n",
      "s _ _ e e _ s \n",
      "Please select a character: h\n",
      "Incorrect guess! Attempts left: 3\n",
      "s _ _ e e _ s \n",
      "Please select a character: g\n",
      "Incorrect guess! Attempts left: 2\n",
      "s _ _ e e _ s \n",
      "Please select a character: b\n",
      "Incorrect guess! Attempts left: 1\n",
      "s _ _ e e _ s \n",
      "Please select a character: t\n",
      "s t _ e e _ s \n",
      "Please select a character: r\n",
      "s t r e e _ s \n",
      "Please select a character: p\n",
      "Incorrect guess! Attempts left: 0\n",
      "GAME OVER! The word is  streeks\n"
     ]
    }
   ],
   "source": [
    "import random\n",
    "\n",
    "words = random.choice(open('words.txt').read().split())\n",
    "\n",
    "print(\"GUESS THE WORD\")\n",
    "\n",
    "attempts = 5\n",
    "guesses = ''\n",
    "\n",
    "while attempts>0:\n",
    "    correct_guesses=0\n",
    "    for letter in words:   \n",
    "        if letter in guesses: \n",
    "            print(letter,end=\" \") \n",
    "            correct_guesses+=1\n",
    "        else:\n",
    "            print(\"_\",end=\" \") \n",
    "                     \n",
    "    print()\n",
    "    \n",
    "    if correct_guesses==len(words):\n",
    "        print(\"YOU WON! The word is\", words)\n",
    "        \n",
    "    guess= input(\"Please select a character: \")\n",
    "    \n",
    "    if guess in guesses:\n",
    "         print(\"You've already guessed that letter!\")\n",
    "    else:\n",
    "        guesses += guess\n",
    "        if guess not in words:\n",
    "            attempts -= 1\n",
    "            print(\"Incorrect guess! Attempts left:\", attempts)\n",
    "            \n",
    "    if attempts == 0:\n",
    "            print(\"GAME OVER! The word is \", words)"
   ]
  },
  {
   "cell_type": "markdown",
   "id": "46e174e5",
   "metadata": {},
   "source": [
    "      "
   ]
  }
 ],
 "metadata": {
  "kernelspec": {
   "display_name": "Python 3 (ipykernel)",
   "language": "python",
   "name": "python3"
  },
  "language_info": {
   "codemirror_mode": {
    "name": "ipython",
    "version": 3
   },
   "file_extension": ".py",
   "mimetype": "text/x-python",
   "name": "python",
   "nbconvert_exporter": "python",
   "pygments_lexer": "ipython3",
   "version": "3.11.5"
  }
 },
 "nbformat": 4,
 "nbformat_minor": 5
}
